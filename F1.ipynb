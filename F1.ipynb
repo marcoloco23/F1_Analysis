{
 "cells": [
  {
   "cell_type": "code",
   "execution_count": 32,
   "metadata": {},
   "outputs": [],
   "source": [
    "import requests\n",
    "import json\n",
    "import fastf1\n",
    "from matplotlib import pyplot as plt\n",
    "import fastf1.plotting\n",
    "import numpy as np\n",
    "import pandas as pd\n",
    "pd.options.mode.chained_assignment = None\n",
    "fastf1.plotting.setup_mpl()\n",
    "import xgboost as xgb\n",
    "from get_data import get_lap_data\n",
    "from sklearn import preprocessing\n",
    "fastf1.Cache.enable_cache('/Users/marcsperzel/Desktop/F1')  \n",
    "from constants import DRIVER_NUMBER_TO_DRIVER, LAP_DATA_CATEGORIES, TIME_DATA"
   ]
  },
  {
   "cell_type": "code",
   "execution_count": 33,
   "metadata": {},
   "outputs": [],
   "source": [
    "PLAYERS_URL = \"https://fantasy-api.formula1.com/f1/2022/players\"\n",
    "r = requests.get(PLAYERS_URL)._content\n",
    "data = json.loads(r.decode(\"UTF-8\"))\n",
    "players = data['players']\n",
    "drivers = [player for player in players if player['position']=='Driver']\n",
    "constructors = [player for player in players if player['position']=='Constructor']\n",
    "driver_df = pd.DataFrame(drivers).set_index(\"id\")\n",
    "driver_df['driver_number']=driver_df['last_name'].map(dict((v,k) for k,v in driver_number_to_driver.items()))\n",
    "constructor_df = pd.DataFrame(constructors).set_index(\"id\")\n",
    "driver_data_df = pd.DataFrame(driver_df.driver_data.to_list(), index=driver_df.index)\n",
    "constructor_data_df = pd.DataFrame(constructor_df.constructor_data.to_list(), index=constructor_df.index)"
   ]
  },
  {
   "cell_type": "code",
   "execution_count": 82,
   "metadata": {},
   "outputs": [
    {
     "name": "stderr",
     "output_type": "stream",
     "text": [
      "core           INFO \tLoading data for Bahrain Grand Prix - Qualifying [v2.2.0]\n",
      "api            INFO \tUsing cached data for driver_info\n",
      "api            INFO \tUsing cached data for timing_data\n",
      "api            INFO \tUsing cached data for timing_app_data\n",
      "core           INFO \tProcessing timing data...\n",
      "api            INFO \tUsing cached data for session_status_data\n",
      "api            INFO \tUsing cached data for track_status_data\n",
      "api            INFO \tUsing cached data for car_data\n",
      "api            INFO \tUsing cached data for position_data\n",
      "api            INFO \tUsing cached data for weather_data\n",
      "core           INFO \tFinished loading data for 20 drivers: ['16', '55', '11', '44', '77', '20', '14', '63', '10', '31', '47', '4', '23', '24', '22', '27', '3', '18', '6', '1']\n"
     ]
    }
   ],
   "source": [
    "session = fastf1.get_session(2022, 'Bahrain', \"Q\")\n",
    "session.load()"
   ]
  },
  {
   "cell_type": "markdown",
   "metadata": {},
   "source": [
    "Hard=0\n",
    "Medium=1\n",
    "Soft=2\n",
    "\n",
    "True=1\n",
    "False=0"
   ]
  },
  {
   "cell_type": "code",
   "execution_count": 24,
   "metadata": {},
   "outputs": [],
   "source": [
    "# not the best model\n",
    "model = xgb.XGBRegressor()\n",
    "model.load_model('f1_model.json')\n",
    "lap_data = get_lap_data(session)\n",
    "predictions = dict(zip(lap_data.index,model.predict(lap_data)))\n",
    "predictions = {k: v for k, v in sorted(predictions.items(), key=lambda item: item[1],reverse=True)}\n",
    "{ DRIVER_NUMBER_TO_DRIVER[k]:predictions[k] for k in predictions }"
   ]
  },
  {
   "cell_type": "code",
   "execution_count": null,
   "metadata": {},
   "outputs": [],
   "source": []
  }
 ],
 "metadata": {
  "interpreter": {
   "hash": "c9450414bf23f3dd29b5b05a150ab805ddf54e50a477ec96525535ab209d16c9"
  },
  "kernelspec": {
   "display_name": "Python 3.9.1 ('main')",
   "language": "python",
   "name": "python3"
  },
  "language_info": {
   "codemirror_mode": {
    "name": "ipython",
    "version": 3
   },
   "file_extension": ".py",
   "mimetype": "text/x-python",
   "name": "python",
   "nbconvert_exporter": "python",
   "pygments_lexer": "ipython3",
   "version": "3.9.1"
  },
  "orig_nbformat": 4
 },
 "nbformat": 4,
 "nbformat_minor": 2
}
